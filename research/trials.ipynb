{
 "cells": [
  {
   "cell_type": "code",
   "execution_count": 1,
   "metadata": {},
   "outputs": [],
   "source": [
    "from dotenv import load_dotenv\n",
    "import os"
   ]
  },
  {
   "cell_type": "code",
   "execution_count": 2,
   "metadata": {},
   "source": [
    "load_dotenv()\n",
    "GOOGLE_API_KEY = os.getenv(\"GOOGLE_API_KEY\")\n",
    "print(GOOGLE_API_KEY)"
   ]
  },
  {
   "cell_type": "code",
   "execution_count": 15,
   "metadata": {},
   "outputs": [
    {
     "name": "stderr",
     "output_type": "stream",
     "text": [
      "2025-03-28 23:19:00,923 - INFO: Load pretrained SentenceTransformer: paraphrase-multilingual-MiniLM-L12-v2\n",
      "2025-03-28 23:19:09,090 - INFO: Use pytorch device_name: cpu\n"
     ]
    },
    {
     "name": "stdout",
     "output_type": "stream",
     "text": [
      "Error processing C:\\Users\\khush\\Downloads\\55-questions-to-ask-yourself.pdf: No features in text.\n"
     ]
    }
   ],
   "source": [
    "import os\n",
    "import logging\n",
    "from dotenv import load_dotenv\n",
    "\n",
    "from src.helper import (\n",
    "    AdvancedTextProcessor, \n",
    "    DocumentLoader\n",
    ")\n",
    "\n",
    "# Configure logging\n",
    "logging.basicConfig(\n",
    "    level=logging.INFO, \n",
    "    format='%(asctime)s - %(levelname)s: %(message)s'\n",
    ")\n",
    "logger = logging.getLogger(__name__)\n",
    "\n",
    "def main():\n",
    "    # Load environment variables\n",
    "    load_dotenv()\n",
    "    GOOGLE_API_KEY = os.getenv(\"GOOGLE_API_KEY\")\n",
    "    \n",
    "    # Initialize components\n",
    "    text_processor = AdvancedTextProcessor()\n",
    "    doc_loader = DocumentLoader(text_processor)\n",
    "    \n",
    "    # Example usage\n",
    "    document_paths = [\n",
    "        # Add paths to your test documents\n",
    "        r\"C:\\Users\\khush\\Downloads\\55-questions-to-ask-yourself.pdf\"\n",
    "    ]\n",
    "    \n",
    "    try:\n",
    "        # Load and process documents\n",
    "        documents = doc_loader.load_documents(document_paths)\n",
    "        \n",
    "        # Print document details\n",
    "        for doc in documents:\n",
    "            print(f\"Source: {doc['source']}\")\n",
    "            print(f\"Metadata: {doc['metadata']}\")\n",
    "            print(f\"Content Preview: {doc['content'][:200]}...\\n\")\n",
    "    \n",
    "    except Exception as e:\n",
    "        logger.error(f\"Error in document processing: {e}\")\n",
    "\n",
    "if __name__ == \"__main__\":\n",
    "    main()"
   ]
  },
  {
   "cell_type": "code",
   "execution_count": null,
   "metadata": {},
   "outputs": [],
   "source": []
  }
 ],
 "metadata": {
  "kernelspec": {
   "display_name": "genai",
   "language": "python",
   "name": "python3"
  },
  "language_info": {
   "codemirror_mode": {
    "name": "ipython",
    "version": 3
   },
   "file_extension": ".py",
   "mimetype": "text/x-python",
   "name": "python",
   "nbconvert_exporter": "python",
   "pygments_lexer": "ipython3",
   "version": "3.8.20"
  }
 },
 "nbformat": 4,
 "nbformat_minor": 2
}
